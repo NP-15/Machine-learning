{
  "cells": [
    {
      "cell_type": "markdown",
      "metadata": {
        "id": "3B1exVA736Y1"
      },
      "source": [
        "# Naive Bayes"
      ]
    },
    {
      "cell_type": "code",
      "execution_count": 1,
      "metadata": {
        "id": "tyFYIRRZ3y6I"
      },
      "outputs": [],
      "source": [
        "import pandas as pd\n",
        "from sklearn.model_selection import train_test_split\n",
        "from sklearn.feature_extraction.text import CountVectorizer, TfidfVectorizer\n",
        "from sklearn.naive_bayes import GaussianNB, MultinomialNB, BernoulliNB\n",
        "from sklearn.metrics import confusion_matrix, accuracy_score, classification_report\n",
        "\n"
      ]
    },
    {
      "cell_type": "code",
      "execution_count": 3,
      "metadata": {
        "id": "qF0OfTtu5hYO"
      },
      "outputs": [],
      "source": [
        "data = pd.read_csv('/assets/naive-bayes.csv', encoding=\"latin1\")\n"
      ]
    },
    {
      "cell_type": "code",
      "execution_count": 4,
      "metadata": {
        "id": "X5oBYmv25klc"
      },
      "outputs": [],
      "source": [
        "X_train, X_test, y_train, y_test = train_test_split(data['v2'], data['v1'], test_size=0.2, random_state=42)\n",
        "\n",
        "vectorizer = CountVectorizer()\n",
        "X_train_freq = vectorizer.fit_transform(X_train)\n",
        "X_test_freq = vectorizer.transform(X_test)"
      ]
    },
    {
      "cell_type": "markdown",
      "metadata": {
        "id": "U6o1RMhz5onE"
      },
      "source": [
        "### 1. Gaussian Naive Bayes"
      ]
    },
    {
      "cell_type": "code",
      "execution_count": 5,
      "metadata": {
        "id": "Um1o77OI5oHM"
      },
      "outputs": [],
      "source": [
        "# 1. Gaussian Naive Bayes\n",
        "gnb = GaussianNB()\n",
        "gnb.fit(X_train_freq.toarray(), y_train)\n",
        "y_pred_gnb = gnb.predict(X_test_freq.toarray())"
      ]
    },
    {
      "cell_type": "markdown",
      "metadata": {
        "id": "1UqLNVE45uIW"
      },
      "source": [
        "### 2. Multinomial Naive Bayes"
      ]
    },
    {
      "cell_type": "code",
      "execution_count": 6,
      "metadata": {
        "id": "k6xDyeFL5zUl"
      },
      "outputs": [],
      "source": [
        "# 2. Multinomial Naive Bayes\n",
        "mnb = MultinomialNB()\n",
        "mnb.fit(X_train_freq, y_train)\n",
        "y_pred_mnb = mnb.predict(X_test_freq)"
      ]
    },
    {
      "cell_type": "markdown",
      "metadata": {
        "id": "BDwTHYPH51VF"
      },
      "source": [
        "### 3. Bernoulli Naive Bayes"
      ]
    },
    {
      "cell_type": "code",
      "execution_count": 7,
      "metadata": {
        "id": "OKtOmwcH54z9"
      },
      "outputs": [],
      "source": [
        "vectorizer_binary = CountVectorizer(binary=True)\n",
        "X_train_binary = vectorizer_binary.fit_transform(X_train)\n",
        "X_test_binary = vectorizer_binary.transform(X_test)\n",
        "\n",
        "bnb = BernoulliNB()\n",
        "bnb.fit(X_train_binary, y_train)\n",
        "y_pred_bnb = bnb.predict(X_test_binary)"
      ]
    },
    {
      "cell_type": "markdown",
      "metadata": {
        "id": "5Ld0oXZr5-ij"
      },
      "source": [
        "## Evaluation"
      ]
    },
    {
      "cell_type": "code",
      "execution_count": 8,
      "metadata": {
        "colab": {
          "base_uri": "https://localhost:8080/"
        },
        "id": "tnelPrPK5-GL",
        "outputId": "dfe8b0c8-505e-4b0a-8ba1-6f047f399220"
      },
      "outputs": [
        {
          "name": "stdout",
          "output_type": "stream",
          "text": [
            "\n",
            "Confusion Matrix for Gaussian Naive Bayes:\n",
            "\n",
            "[[866  99]\n",
            " [ 12 138]]\n",
            "\n",
            "Accuracy for Gaussian Naive Bayes: 0.9004484304932735\n",
            "\n",
            "Classification Report for Gaussian Naive Bayes:\n",
            "\n",
            "              precision    recall  f1-score   support\n",
            "\n",
            "         ham       0.99      0.90      0.94       965\n",
            "        spam       0.58      0.92      0.71       150\n",
            "\n",
            "    accuracy                           0.90      1115\n",
            "   macro avg       0.78      0.91      0.83      1115\n",
            "weighted avg       0.93      0.90      0.91      1115\n",
            "\n",
            "\n",
            "Confusion Matrix for Multinomial Naive Bayes:\n",
            "\n",
            "[[963   2]\n",
            " [ 16 134]]\n",
            "\n",
            "Accuracy for Multinomial Naive Bayes: 0.9838565022421525\n",
            "\n",
            "Classification Report for Multinomial Naive Bayes:\n",
            "\n",
            "              precision    recall  f1-score   support\n",
            "\n",
            "         ham       0.98      1.00      0.99       965\n",
            "        spam       0.99      0.89      0.94       150\n",
            "\n",
            "    accuracy                           0.98      1115\n",
            "   macro avg       0.98      0.95      0.96      1115\n",
            "weighted avg       0.98      0.98      0.98      1115\n",
            "\n",
            "\n",
            "Confusion Matrix for Bernoulli Naive Bayes:\n",
            "\n",
            "[[965   0]\n",
            " [ 28 122]]\n",
            "\n",
            "Accuracy for Bernoulli Naive Bayes: 0.9748878923766816\n",
            "\n",
            "Classification Report for Bernoulli Naive Bayes:\n",
            "\n",
            "              precision    recall  f1-score   support\n",
            "\n",
            "         ham       0.97      1.00      0.99       965\n",
            "        spam       1.00      0.81      0.90       150\n",
            "\n",
            "    accuracy                           0.97      1115\n",
            "   macro avg       0.99      0.91      0.94      1115\n",
            "weighted avg       0.98      0.97      0.97      1115\n",
            "\n"
          ]
        }
      ],
      "source": [
        "def evaluate_model(y_true, y_pred, model_name):\n",
        "    print(f\"\\nConfusion Matrix for {model_name}:\\n\")\n",
        "    print(confusion_matrix(y_true, y_pred))\n",
        "    print(f\"\\nAccuracy for {model_name}: {accuracy_score(y_true, y_pred)}\")\n",
        "    print(f\"\\nClassification Report for {model_name}:\\n\")\n",
        "    print(classification_report(y_true, y_pred))\n",
        "\n",
        "# Evaluate Gaussian NB\n",
        "evaluate_model(y_test, y_pred_gnb, 'Gaussian Naive Bayes')\n",
        "\n",
        "# Evaluate Multinomial NB\n",
        "evaluate_model(y_test, y_pred_mnb, 'Multinomial Naive Bayes')\n",
        "\n",
        "# Evaluate Bernoulli NB\n",
        "evaluate_model(y_test, y_pred_bnb, 'Bernoulli Naive Bayes')"
      ]
    }
  ],
  "metadata": {
    "colab": {
      "provenance": []
    },
    "kernelspec": {
      "display_name": "Python 3",
      "name": "python3"
    },
    "language_info": {
      "codemirror_mode": {
        "name": "ipython",
        "version": 3
      },
      "file_extension": ".py",
      "mimetype": "text/x-python",
      "name": "python",
      "nbconvert_exporter": "python",
      "pygments_lexer": "ipython3",
      "version": "3.8.10"
    }
  },
  "nbformat": 4,
  "nbformat_minor": 0
}
